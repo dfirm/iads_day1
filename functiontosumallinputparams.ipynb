{
  "nbformat": 4,
  "nbformat_minor": 0,
  "metadata": {
    "colab": {
      "name": "functiontosumallinputparams.ipynb",
      "provenance": [],
      "authorship_tag": "ABX9TyMd2O8Aa1Oo3lxP14IdXx0l",
      "include_colab_link": true
    },
    "kernelspec": {
      "name": "python3",
      "display_name": "Python 3"
    },
    "language_info": {
      "name": "python"
    }
  },
  "cells": [
    {
      "cell_type": "markdown",
      "metadata": {
        "id": "view-in-github",
        "colab_type": "text"
      },
      "source": [
        "<a href=\"https://colab.research.google.com/github/dfirm/iads_day1/blob/main/functiontosumallinputparams.ipynb\" target=\"_parent\"><img src=\"https://colab.research.google.com/assets/colab-badge.svg\" alt=\"Open In Colab\"/></a>"
      ]
    },
    {
      "cell_type": "code",
      "metadata": {
        "colab": {
          "base_uri": "https://localhost:8080/"
        },
        "id": "sNJXPUQKCZSm",
        "outputId": "a002c706-6974-4ba7-e832-7598fa07a5f9"
      },
      "source": [
        "# Function to sum all input parameters\n",
        "\n",
        "def sumall(*input):\n",
        "    sumall = 0\n",
        "    for a in input:\n",
        "      sumall = sumall + a\n",
        "\n",
        "    return (sumall)\n",
        "\n",
        "print(sumall(1,2,3,4,5,6))\n"
      ],
      "execution_count": 10,
      "outputs": [
        {
          "output_type": "stream",
          "text": [
            "21\n"
          ],
          "name": "stdout"
        }
      ]
    }
  ]
}